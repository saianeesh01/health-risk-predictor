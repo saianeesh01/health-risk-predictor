{
 "cells": [
  {
   "cell_type": "code",
   "execution_count": null,
   "id": "387b0c8b",
   "metadata": {},
   "outputs": [],
   "source": [
    "#Setup \n",
    "\n",
    "import shap\n",
    "import joblib                # In case you want to persist the trained pipeline\n",
    "import pandas as pd\n",
    "from sklearn.datasets import load_breast_cancer\n",
    "\n",
    "# If you saved your pipeline:\n",
    "# pipe = joblib.load(\"artifacts/feature_rf.pkl\")\n",
    "\n",
    "data = load_breast_cancer(as_frame=True)\n",
    "X     = data.frame\n"
   ]
  },
  {
   "cell_type": "code",
   "execution_count": null,
   "id": "e92d90fc",
   "metadata": {},
   "outputs": [],
   "source": [
    "# Explain with TreeExplainer\n",
    "\n",
    "# Use the pipeline fitted in the previous notebook (pipe)\n",
    "explainer = shap.TreeExplainer(pipe.named_steps[\"model\"])\n",
    "# Preprocess features before SHAP\n",
    "X_pre = pipe.named_steps[\"pre\"].transform(X)\n",
    "shap_values = explainer.shap_values(X_pre)\n",
    "\n",
    "# Summary plot\n",
    "shap.summary_plot(shap_values[1], X, show=False)\n",
    "plt.tight_layout()\n",
    "plt.savefig(\"shap_summary.png\")\n"
   ]
  },
  {
   "cell_type": "code",
   "execution_count": null,
   "id": "35f6885d",
   "metadata": {},
   "outputs": [],
   "source": [
    "# Log SHAP Artifiact\n",
    "\n",
    "import mlflow\n",
    "with mlflow.start_run(run_name=\"shap_analysis\"):\n",
    "    mlflow.log_artifact(\"shap_summary.png\", artifact_path=\"shap_plots\")\n"
   ]
  },
  {
   "cell_type": "code",
   "execution_count": null,
   "id": "91bb2a3a",
   "metadata": {},
   "outputs": [],
   "source": [
    "shap.initjs()\n",
    "shap.force_plot(explainer.expected_value[1],\n",
    "                shap_values[1][0, :],\n",
    "                X.iloc[0, :])\n"
   ]
  }
 ],
 "metadata": {
  "language_info": {
   "name": "python"
  }
 },
 "nbformat": 4,
 "nbformat_minor": 5
}
