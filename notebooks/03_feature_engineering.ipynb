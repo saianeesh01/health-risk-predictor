{
 "cells": [
  {
   "cell_type": "code",
   "execution_count": 1,
   "id": "1fa56c7e",
   "metadata": {},
   "outputs": [],
   "source": [
    "#Imports & Data Load \n",
    "import pandas as pd\n",
    "import numpy as np\n",
    "import seaborn as sns\n",
    "import matplotlib.pyplot as plt\n",
    "from sklearn.datasets import load_breast_cancer\n",
    "from sklearn.model_selection import train_test_split\n",
    "from sklearn.preprocessing import StandardScaler, PowerTransformer\n",
    "from sklearn.compose import ColumnTransformer\n",
    "from sklearn.pipeline import Pipeline\n",
    "from sklearn.ensemble import RandomForestClassifier\n",
    "from sklearn.metrics import roc_auc_score\n",
    "import mlflow\n",
    "import mlflow.sklearn\n"
   ]
  },
  {
   "cell_type": "code",
   "execution_count": 2,
   "id": "2cdf8e5e",
   "metadata": {},
   "outputs": [
    {
     "name": "stdout",
     "output_type": "stream",
     "text": [
      "Skewed features: ['area error', 'concavity error', 'fractal dimension error', 'perimeter error', 'radius error', 'smoothness error', 'symmetry error', 'compactness error', 'worst area', 'worst fractal dimension', 'texture error', 'mean area', 'worst compactness', 'concave points error', 'worst symmetry', 'mean concavity', 'mean fractal dimension', 'mean compactness', 'mean concave points', 'worst concavity', 'worst perimeter', 'worst radius']\n",
      "Highly-correlated (>0.9) pairs: [('mean perimeter', 'mean radius'), ('mean area', 'mean radius'), ('mean area', 'mean perimeter'), ('mean concave points', 'mean concavity'), ('perimeter error', 'radius error'), ('area error', 'radius error'), ('area error', 'perimeter error'), ('worst radius', 'mean radius'), ('worst radius', 'mean perimeter'), ('worst radius', 'mean area'), ('worst texture', 'mean texture'), ('worst perimeter', 'mean radius'), ('worst perimeter', 'mean perimeter'), ('worst perimeter', 'mean area'), ('worst perimeter', 'worst radius'), ('worst area', 'mean radius'), ('worst area', 'mean perimeter'), ('worst area', 'mean area'), ('worst area', 'worst radius'), ('worst area', 'worst perimeter'), ('worst concave points', 'mean concave points')]\n"
     ]
    }
   ],
   "source": [
    "# Deteck Skew + Highly-Correlated Pairs \n",
    "\n",
    "# Load dataset\n",
    "data = load_breast_cancer(as_frame=True)\n",
    "df   = data.frame.copy()\n",
    "df['target'] = data.target\n",
    "\n",
    "# --- Skewness ---\n",
    "skew = df.drop(columns='target').skew().sort_values(ascending=False)\n",
    "skewed_feats = skew[skew.abs() > 1.0].index.tolist()      # |skew| > 1 = high skew\n",
    "print(\"Skewed features:\", skewed_feats)\n",
    "\n",
    "# --- Correlation ---\n",
    "corr = df.drop(columns='target').corr().abs()\n",
    "upper = corr.where(np.triu(np.ones(corr.shape), k=1).astype(bool))\n",
    "high_corr_pairs = [(col, row) for col in upper.columns\n",
    "                   for row in upper.index\n",
    "                   if (upper.loc[row, col] > 0.9)]\n",
    "print(\"Highly-correlated (>0.9) pairs:\", high_corr_pairs)\n"
   ]
  },
  {
   "cell_type": "code",
   "execution_count": 3,
   "id": "4476b92b",
   "metadata": {},
   "outputs": [],
   "source": [
    "# Define Pre-processor \n",
    "\n",
    "numeric = df.drop(columns='target').columns.tolist()\n",
    "\n",
    "# Pipeline: (1) PowerTransformer for skewed columns\n",
    "#           (2) StandardScaler for all numeric\n",
    "pre = ColumnTransformer(\n",
    "    transformers=[\n",
    "        (\"skew_fix\", PowerTransformer(method=\"yeo-johnson\"),\n",
    "         skewed_feats),\n",
    "        (\"scale\", StandardScaler(), numeric)\n",
    "    ],\n",
    "    remainder=\"passthrough\"\n",
    ")\n"
   ]
  },
  {
   "cell_type": "code",
   "execution_count": 4,
   "id": "d9975dc4",
   "metadata": {},
   "outputs": [
    {
     "name": "stdout",
     "output_type": "stream",
     "text": [
      "New AUC: 0.9930555555555556\n"
     ]
    }
   ],
   "source": [
    "# Training + MLflow Run\n",
    "X = df.drop(columns='target')\n",
    "y = df['target']\n",
    "X_train, X_test, y_train, y_test = train_test_split(\n",
    "    X, y, test_size=0.2, random_state=42, stratify=y\n",
    ")\n",
    "\n",
    "# Model\n",
    "rf = RandomForestClassifier(\n",
    "    n_estimators=400, max_depth=None, random_state=42)\n",
    "\n",
    "pipe = Pipeline(steps=[(\"pre\", pre), (\"model\", rf)])\n",
    "\n",
    "mlflow.sklearn.autolog()\n",
    "\n",
    "with mlflow.start_run(run_name=\"feature_engineered_rf\"):\n",
    "    pipe.fit(X_train, y_train)\n",
    "    proba = pipe.predict_proba(X_test)[:, 1]\n",
    "    auc   = roc_auc_score(y_test, proba)\n",
    "    mlflow.log_metric(\"roc_auc\", auc)\n",
    "\n",
    "print(\"New AUC:\", auc)\n"
   ]
  },
  {
   "cell_type": "code",
   "execution_count": 6,
   "id": "10b22177",
   "metadata": {},
   "outputs": [
    {
     "name": "stdout",
     "output_type": "stream",
     "text": [
      "Reduced-feature AUC: 0.9947089947089948\n"
     ]
    }
   ],
   "source": [
    "# Remove one column from each high-corr pair\n",
    "cols_to_drop = {pair[1] for pair in high_corr_pairs}\n",
    "X_reduced    = X.drop(columns=list(cols_to_drop))\n",
    "\n",
    "X_train_r, X_test_r, y_train_r, y_test_r = train_test_split(\n",
    "    X_reduced, y, test_size=0.2, random_state=42, stratify=y\n",
    ")\n",
    "\n",
    "# Adjust skewed_feats and numeric for reduced columns\n",
    "skewed_feats_r = [col for col in skewed_feats if col in X_reduced.columns]\n",
    "numeric_r = [col for col in numeric if col in X_reduced.columns]\n",
    "\n",
    "pre_r = ColumnTransformer(\n",
    "    transformers=[\n",
    "        (\"skew_fix\", PowerTransformer(method=\"yeo-johnson\"), skewed_feats_r),\n",
    "        (\"scale\", StandardScaler(), numeric_r)\n",
    "    ],\n",
    "    remainder=\"passthrough\"\n",
    ")\n",
    "\n",
    "pipe_r = Pipeline(steps=[\n",
    "    (\"pre\", pre_r),\n",
    "    (\"model\", rf)\n",
    "])\n",
    "\n",
    "with mlflow.start_run(run_name=\"reduced_features_rf\"):\n",
    "    pipe_r.fit(X_train_r, y_train_r)\n",
    "    proba_r = pipe_r.predict_proba(X_test_r)[:, 1]\n",
    "    auc_r   = roc_auc_score(y_test_r, proba_r)\n",
    "    mlflow.log_metric(\"roc_auc\", auc_r)\n",
    "\n",
    "print(\"Reduced-feature AUC:\", auc_r)\n"
   ]
  }
 ],
 "metadata": {
  "kernelspec": {
   "display_name": ".venv",
   "language": "python",
   "name": "python3"
  },
  "language_info": {
   "codemirror_mode": {
    "name": "ipython",
    "version": 3
   },
   "file_extension": ".py",
   "mimetype": "text/x-python",
   "name": "python",
   "nbconvert_exporter": "python",
   "pygments_lexer": "ipython3",
   "version": "3.11.6"
  }
 },
 "nbformat": 4,
 "nbformat_minor": 5
}
